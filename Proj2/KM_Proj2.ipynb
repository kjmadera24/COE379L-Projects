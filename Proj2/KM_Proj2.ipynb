{
 "cells": [
  {
   "cell_type": "markdown",
   "id": "77a0e428-c9fa-4af0-bf29-abb4f43f2d69",
   "metadata": {},
   "source": [
    "# Required Imports #"
   ]
  },
  {
   "cell_type": "code",
   "execution_count": 436,
   "id": "5ea1d68f-2364-4e43-872a-ed723a0753ac",
   "metadata": {},
   "outputs": [],
   "source": [
    "import pandas as pd\n",
    "import numpy as np\n",
    "import matplotlib.pyplot as plt\n",
    "import seaborn as sns\n",
    "\n",
    "import sklearn\n",
    "import sklearn.linear_model\n",
    "from sklearn.model_selection import train_test_split\n",
    "\n",
    "from sklearn.metrics import accuracy_score, recall_score, precision_score, f1_score\n",
    "from sklearn.model_selection import GridSearchCV\n",
    "from sklearn.metrics import classification_report\n",
    "\n",
    "from sklearn.neighbors import KNeighborsClassifier\n",
    "from sklearn.ensemble import RandomForestClassifier\n",
    "from sklearn.tree import DecisionTreeClassifier\n",
    "\n",
    "data = pd.read_csv(\"project2.data\")"
   ]
  },
  {
   "cell_type": "markdown",
   "id": "7dd88198-35a1-4b3a-ad02-4974f925f1d1",
   "metadata": {},
   "source": [
    "# Data Preprocessing and Visualization (Part 1) #"
   ]
  },
  {
   "cell_type": "markdown",
   "id": "e25cc843-7019-4d5d-9bfc-c48d3a373e9a",
   "metadata": {
    "jp-MarkdownHeadingCollapsed": true
   },
   "source": [
    "## Preprocessing ##"
   ]
  },
  {
   "cell_type": "markdown",
   "id": "c00e0567-ee28-4ab3-8973-cc44cab096e6",
   "metadata": {},
   "source": [
    "Shape and Size of the data set!!"
   ]
  },
  {
   "cell_type": "code",
   "execution_count": 437,
   "id": "ba2f1b03-fa08-4d8e-beba-c12b92aa4e5a",
   "metadata": {},
   "outputs": [
    {
     "name": "stdout",
     "output_type": "stream",
     "text": [
      "<class 'pandas.core.frame.DataFrame'>\n",
      "RangeIndex: 286 entries, 0 to 285\n",
      "Data columns (total 10 columns):\n",
      " #   Column       Non-Null Count  Dtype \n",
      "---  ------       --------------  ----- \n",
      " 0   class        286 non-null    object\n",
      " 1   age          286 non-null    object\n",
      " 2   menopause    286 non-null    object\n",
      " 3   tumor-size   286 non-null    object\n",
      " 4   inv-nodes    286 non-null    object\n",
      " 5   node-caps    286 non-null    object\n",
      " 6   deg-malig    286 non-null    int64 \n",
      " 7   breast       286 non-null    object\n",
      " 8   breast-quad  286 non-null    object\n",
      " 9   irradiat     286 non-null    object\n",
      "dtypes: int64(1), object(9)\n",
      "memory usage: 22.5+ KB\n"
     ]
    },
    {
     "data": {
      "text/plain": [
       "(286, 10)"
      ]
     },
     "execution_count": 437,
     "metadata": {},
     "output_type": "execute_result"
    }
   ],
   "source": [
    "data.info()\n",
    "data.shape"
   ]
  },
  {
   "cell_type": "code",
   "execution_count": 438,
   "id": "9c1b93ca-2d34-4afd-bf67-fe19150b4d21",
   "metadata": {},
   "outputs": [
    {
     "data": {
      "text/html": [
       "<div>\n",
       "<style scoped>\n",
       "    .dataframe tbody tr th:only-of-type {\n",
       "        vertical-align: middle;\n",
       "    }\n",
       "\n",
       "    .dataframe tbody tr th {\n",
       "        vertical-align: top;\n",
       "    }\n",
       "\n",
       "    .dataframe thead th {\n",
       "        text-align: right;\n",
       "    }\n",
       "</style>\n",
       "<table border=\"1\" class=\"dataframe\">\n",
       "  <thead>\n",
       "    <tr style=\"text-align: right;\">\n",
       "      <th></th>\n",
       "      <th>class</th>\n",
       "      <th>age</th>\n",
       "      <th>menopause</th>\n",
       "      <th>tumor-size</th>\n",
       "      <th>inv-nodes</th>\n",
       "      <th>node-caps</th>\n",
       "      <th>deg-malig</th>\n",
       "      <th>breast</th>\n",
       "      <th>breast-quad</th>\n",
       "      <th>irradiat</th>\n",
       "    </tr>\n",
       "  </thead>\n",
       "  <tbody>\n",
       "    <tr>\n",
       "      <th>0</th>\n",
       "      <td>no-recurrence-events</td>\n",
       "      <td>30-39</td>\n",
       "      <td>premeno</td>\n",
       "      <td>30-34</td>\n",
       "      <td>0-2</td>\n",
       "      <td>no</td>\n",
       "      <td>3</td>\n",
       "      <td>left</td>\n",
       "      <td>left_low</td>\n",
       "      <td>no</td>\n",
       "    </tr>\n",
       "    <tr>\n",
       "      <th>1</th>\n",
       "      <td>no-recurrence-events</td>\n",
       "      <td>40-49</td>\n",
       "      <td>premeno</td>\n",
       "      <td>20-24</td>\n",
       "      <td>0-2</td>\n",
       "      <td>no</td>\n",
       "      <td>2</td>\n",
       "      <td>right</td>\n",
       "      <td>right_up</td>\n",
       "      <td>no</td>\n",
       "    </tr>\n",
       "    <tr>\n",
       "      <th>2</th>\n",
       "      <td>no-recurrence-events</td>\n",
       "      <td>40-49</td>\n",
       "      <td>premeno</td>\n",
       "      <td>20-24</td>\n",
       "      <td>0-2</td>\n",
       "      <td>no</td>\n",
       "      <td>2</td>\n",
       "      <td>left</td>\n",
       "      <td>left_low</td>\n",
       "      <td>no</td>\n",
       "    </tr>\n",
       "    <tr>\n",
       "      <th>3</th>\n",
       "      <td>no-recurrence-events</td>\n",
       "      <td>60-69</td>\n",
       "      <td>ge40</td>\n",
       "      <td>15-19</td>\n",
       "      <td>0-2</td>\n",
       "      <td>no</td>\n",
       "      <td>2</td>\n",
       "      <td>right</td>\n",
       "      <td>left_up</td>\n",
       "      <td>no</td>\n",
       "    </tr>\n",
       "    <tr>\n",
       "      <th>4</th>\n",
       "      <td>no-recurrence-events</td>\n",
       "      <td>40-49</td>\n",
       "      <td>premeno</td>\n",
       "      <td>0-4</td>\n",
       "      <td>0-2</td>\n",
       "      <td>no</td>\n",
       "      <td>2</td>\n",
       "      <td>right</td>\n",
       "      <td>right_low</td>\n",
       "      <td>no</td>\n",
       "    </tr>\n",
       "  </tbody>\n",
       "</table>\n",
       "</div>"
      ],
      "text/plain": [
       "                  class    age menopause tumor-size inv-nodes node-caps  \\\n",
       "0  no-recurrence-events  30-39   premeno      30-34       0-2        no   \n",
       "1  no-recurrence-events  40-49   premeno      20-24       0-2        no   \n",
       "2  no-recurrence-events  40-49   premeno      20-24       0-2        no   \n",
       "3  no-recurrence-events  60-69      ge40      15-19       0-2        no   \n",
       "4  no-recurrence-events  40-49   premeno        0-4       0-2        no   \n",
       "\n",
       "   deg-malig breast breast-quad irradiat  \n",
       "0          3   left    left_low       no  \n",
       "1          2  right    right_up       no  \n",
       "2          2   left    left_low       no  \n",
       "3          2  right     left_up       no  \n",
       "4          2  right   right_low       no  "
      ]
     },
     "execution_count": 438,
     "metadata": {},
     "output_type": "execute_result"
    }
   ],
   "source": [
    "data.head()"
   ]
  },
  {
   "cell_type": "code",
   "execution_count": 439,
   "id": "d8b5ff64-20f5-4a10-8359-a43276fbbe6a",
   "metadata": {},
   "outputs": [],
   "source": [
    "## Despite there being a lot of object data-types I don't think conversion is necessary!!\n",
    "## Besides One-Hot encoding, there seems to be some potential maybe later!!"
   ]
  },
  {
   "cell_type": "code",
   "execution_count": 440,
   "id": "010f7c0f-174e-45e0-816f-e7f5befef6b0",
   "metadata": {},
   "outputs": [
    {
     "name": "stdout",
     "output_type": "stream",
     "text": [
      "False\n"
     ]
    }
   ],
   "source": [
    "print(data.isnull().values.any())"
   ]
  },
  {
   "cell_type": "code",
   "execution_count": 441,
   "id": "0a62c331-76fc-476d-bcd4-128165189e04",
   "metadata": {},
   "outputs": [],
   "source": [
    "## There are no null cells!!"
   ]
  },
  {
   "cell_type": "code",
   "execution_count": 442,
   "id": "6f7fb6d2-2711-49ad-b64e-44d4b2b92879",
   "metadata": {},
   "outputs": [
    {
     "name": "stdout",
     "output_type": "stream",
     "text": [
      "Number of unique values for each header starting from class to irradiat!!\n",
      "2 6 3 11 7 3 3 2 6 2\n"
     ]
    }
   ],
   "source": [
    "print(\"Number of unique values for each header starting from class to irradiat!!\")\n",
    "print(len(data['class'].unique()), len(data['age'].unique()), len(data['menopause'].unique()),\n",
    "      len(data['tumor-size'].unique()), len(data['inv-nodes'].unique()), \n",
    "      len(data['node-caps'].unique()), len(data['deg-malig'].unique()),\n",
    "      len(data['breast'].unique()), len(data['breast-quad'].unique()),\n",
    "      len(data['irradiat'].unique()))"
   ]
  },
  {
   "cell_type": "markdown",
   "id": "6e55c899-ed8f-481b-9614-c13e3b53bc2c",
   "metadata": {},
   "source": [
    "Almost every value is a string or a range of numbers making the object data type valid.\n",
    "Although there's 6 categories that I think would be easier with one hot encoding!!\n",
    "aka the catagories with <= 3 unique values!!"
   ]
  },
  {
   "cell_type": "code",
   "execution_count": 443,
   "id": "bac9759d-3c3d-4923-aa25-e6c615d22acb",
   "metadata": {},
   "outputs": [
    {
     "name": "stdout",
     "output_type": "stream",
     "text": [
      "class: ['no-recurrence-events' 'recurrence-events']\n",
      "age: ['30-39' '40-49' '60-69' '50-59' '70-79' '20-29']\n",
      "tumor-size: ['30-34' '20-24' '15-19' '0-4' '25-29' '50-54' '10-14' '40-44' '35-39'\n",
      " '5-9' '45-49']\n",
      "menopause: ['premeno' 'ge40' 'lt40']\n",
      "inv-nodes: ['0-2' '6-8' '9-11' '3-5' '15-17' '12-14' '24-26']\n",
      "node-caps: ['no' 'yes' '?']\n",
      "deg-malig: [3 2 1]\n",
      "breast: ['left' 'right']\n",
      "breast-quad: ['left_low' 'right_up' 'left_up' 'right_low' 'central' '?']\n",
      "irradiat: ['no' 'yes']\n"
     ]
    }
   ],
   "source": [
    "print(\"class:\" , data['class'].unique())\n",
    "print(\"age:\" , data['age'].unique())\n",
    "print(\"tumor-size:\" , data['tumor-size'].unique())\n",
    "print(\"menopause:\" , data['menopause'].unique())\n",
    "print(\"inv-nodes:\" , data['inv-nodes'].unique())\n",
    "print(\"node-caps:\" , data['node-caps'].unique())\n",
    "print(\"deg-malig:\" , data['deg-malig'].unique())\n",
    "print(\"breast:\" , data['breast'].unique())\n",
    "print(\"breast-quad:\" , data['breast-quad'].unique())\n",
    "print(\"irradiat:\" , data['irradiat'].unique())"
   ]
  },
  {
   "cell_type": "markdown",
   "id": "e5cfda6e-104a-4f47-ab8f-d5ea0ae3fa99",
   "metadata": {},
   "source": [
    "Of the categories 2 have an odd unique value, above we see that the node-caps and deg-malig categories have a unique value of '?' which isnt a valid value. Not to mention the fact that there are numbers in some columns but in ranges."
   ]
  },
  {
   "cell_type": "markdown",
   "id": "20111150-cc8d-454c-96d9-da726ce61a45",
   "metadata": {},
   "source": [
    "Let's handle the node-caps invalid values. After analyzing the dataset a bit more I tried to look for a correlation between the node-caps column and the rest. At first, it seemed to be random but I noticed a slight trend with the irradiat column being almost always the same as the node-caps."
   ]
  },
  {
   "cell_type": "code",
   "execution_count": 444,
   "id": "256ba6ce-3d4e-4d9e-852a-9738130ef8d9",
   "metadata": {},
   "outputs": [
    {
     "name": "stdout",
     "output_type": "stream",
     "text": [
      "Invalid Values:  8\n"
     ]
    }
   ],
   "source": [
    "invalidNC = 0\n",
    "for i, row in data[data['node-caps'] == '?'].iterrows():\n",
    "    invalidNC += 1\n",
    "print(\"Invalid Values: \", invalidNC)"
   ]
  },
  {
   "cell_type": "code",
   "execution_count": 445,
   "id": "921f125b-8530-48eb-adea-4b9527609123",
   "metadata": {},
   "outputs": [
    {
     "name": "stdout",
     "output_type": "stream",
     "text": [
      "Correlation Probability b/w Irradiat & node-caps:  0.7769784172661871\n",
      "Probability of Invalid values:  0.027972027972027972\n"
     ]
    }
   ],
   "source": [
    "countNN = 0\n",
    "countYY = 0\n",
    "for i, row in data[data['irradiat'] == 'no'].iterrows():\n",
    "    if row['node-caps'] == 'no':\n",
    "        countNN = countNN + 1\n",
    "for i, row in data[data['irradiat'] == 'yes'].iterrows():\n",
    "    if row['node-caps'] == 'yes':\n",
    "        countYY = countYY + 1\n",
    "print(\"Correlation Probability b/w Irradiat & node-caps: \", (countNN + countYY)/(286-invalidNC))\n",
    "print(\"Probability of Invalid values: \", invalidNC/286)"
   ]
  },
  {
   "cell_type": "markdown",
   "id": "1bb2e31d-6455-434a-906e-70b64e8286fe",
   "metadata": {},
   "source": [
    "Not bad in all honesty!! Ill use it as a basis seeing as the probability of invalid values is super low!!"
   ]
  },
  {
   "cell_type": "code",
   "execution_count": 446,
   "id": "6d20016d-f74b-4aa1-8d78-982f4cfbaf48",
   "metadata": {},
   "outputs": [
    {
     "name": "stdout",
     "output_type": "stream",
     "text": [
      "node-caps: ['no' 'yes']\n"
     ]
    }
   ],
   "source": [
    "for i, row in data[data['node-caps'] == '?'].iterrows():\n",
    "    data.at[i, 'node-caps'] = data.at[i, 'irradiat']\n",
    "print(\"node-caps:\" , data['node-caps'].unique())"
   ]
  },
  {
   "cell_type": "markdown",
   "id": "2d0c7cd4-6193-4aa1-b138-11daa2648edb",
   "metadata": {},
   "source": [
    "Now we can handle the breast-quad column!!"
   ]
  },
  {
   "cell_type": "code",
   "execution_count": 447,
   "id": "c29a2f6f-ce00-4a43-a40d-6656b1e22c91",
   "metadata": {},
   "outputs": [
    {
     "name": "stdout",
     "output_type": "stream",
     "text": [
      "Number of Invalid values:  1\n"
     ]
    }
   ],
   "source": [
    "invalid = 0\n",
    "rowNum = 0\n",
    "for i, row in data[data['breast-quad'] == '?'].iterrows():\n",
    "    invalid += 1\n",
    "    rowNum = i\n",
    "print('Number of Invalid values: ', invalid)"
   ]
  },
  {
   "cell_type": "markdown",
   "id": "6299cf93-3c35-4936-85fb-a8625880666c",
   "metadata": {},
   "source": [
    "Seeing as there is only one invalid value, I analyzed the dataset again to look for similarities between the different categories and there is not really a simple way to choose the value so im going to drop it seeing as it is the only one."
   ]
  },
  {
   "cell_type": "code",
   "execution_count": 448,
   "id": "b94b195c-dcd4-4136-b400-58f852d02953",
   "metadata": {},
   "outputs": [
    {
     "name": "stdout",
     "output_type": "stream",
     "text": [
      "breast-quad: ['left_low' 'right_up' 'left_up' 'right_low' 'central']\n"
     ]
    }
   ],
   "source": [
    "data.drop(data[data['breast-quad'] == \"?\"].index,inplace=True)\n",
    "print(\"breast-quad:\" , data['breast-quad'].unique())"
   ]
  },
  {
   "cell_type": "markdown",
   "id": "42be17f6-e35d-40e6-81a9-7a4d9f16bb75",
   "metadata": {
    "jp-MarkdownHeadingCollapsed": true
   },
   "source": [
    "## Uni/Multivariate Analysis ##"
   ]
  },
  {
   "cell_type": "code",
   "execution_count": 449,
   "id": "003ef658-0439-47a7-a83f-c9776696421e",
   "metadata": {},
   "outputs": [
    {
     "name": "stderr",
     "output_type": "stream",
     "text": [
      "/usr/local/lib/python3.11/site-packages/seaborn/_oldcore.py:1119: FutureWarning: use_inf_as_na option is deprecated and will be removed in a future version. Convert inf values to NaN before operating instead.\n",
      "  with pd.option_context('mode.use_inf_as_na', True):\n"
     ]
    },
    {
     "data": {
      "text/plain": [
       "<Axes: xlabel='age', ylabel='Count'>"
      ]
     },
     "execution_count": 449,
     "metadata": {},
     "output_type": "execute_result"
    },
    {
     "data": {
      "image/png": "[encoded data removed]",
      "text/plain": [
       "<Figure size 640x480 with 1 Axes>"
      ]
     },
     "metadata": {},
     "output_type": "display_data"
    }
   ],
   "source": [
    "sns.histplot(data=data['age'])"
   ]
  },
  {
   "cell_type": "markdown",
   "id": "5a599ef3-eba2-4425-86d8-e8e7cff24df2",
   "metadata": {},
   "source": [
    "Most cases are in the 40-60 age range."
   ]
  },
  {
   "cell_type": "code",
   "execution_count": 450,
   "id": "621ea47c-8dba-4380-864a-7b75c3b96293",
   "metadata": {},
   "outputs": [
    {
     "data": {
      "text/plain": [
       "<Axes: xlabel='breast-quad', ylabel='count'>"
      ]
     },
     "execution_count": 450,
     "metadata": {},
     "output_type": "execute_result"
    },
    {
     "data": {
      "image/png": "[encoded data removed]",
      "text/plain": [
       "<Figure size 640x480 with 1 Axes>"
      ]
     },
     "metadata": {},
     "output_type": "display_data"
    }
   ],
   "source": [
    "sns.countplot(x=data['breast-quad'], hue=data['breast'])"
   ]
  },
  {
   "cell_type": "markdown",
   "id": "4956bc38-7fc1-4e0b-8730-05f097e72af6",
   "metadata": {},
   "source": [
    "Of the cases majority are in the left breast dominating in the left lower/upper quadrant, which is interesting."
   ]
  },
  {
   "cell_type": "code",
   "execution_count": 451,
   "id": "bb39e940-17de-40c1-9750-22b71b3a7336",
   "metadata": {},
   "outputs": [
    {
     "data": {
      "text/plain": [
       "<Axes: xlabel='deg-malig'>"
      ]
     },
     "execution_count": 451,
     "metadata": {},
     "output_type": "execute_result"
    },
    {
     "data": {
      "image/png": "[encoded data removed]",
      "text/plain": [
       "<Figure size 640x480 with 1 Axes>"
      ]
     },
     "metadata": {},
     "output_type": "display_data"
    }
   ],
   "source": [
    "sns.boxplot(data=data, x='deg-malig')"
   ]
  },
  {
   "cell_type": "markdown",
   "id": "7a5fa2e7-d954-4b9e-b2f2-d4593a72b134",
   "metadata": {},
   "source": [
    "I can't perform any other box plots without more int values so let's do some one-hot encoding and maybe even something about those ranges!!"
   ]
  },
  {
   "cell_type": "code",
   "execution_count": 452,
   "id": "d59054f5-736e-4238-ba48-499ea5ce7d07",
   "metadata": {},
   "outputs": [
    {
     "name": "stdout",
     "output_type": "stream",
     "text": [
      "<class 'pandas.core.frame.DataFrame'>\n",
      "Index: 285 entries, 0 to 285\n",
      "Data columns (total 14 columns):\n",
      " #   Column                   Non-Null Count  Dtype \n",
      "---  ------                   --------------  ----- \n",
      " 0   age                      285 non-null    object\n",
      " 1   tumor-size               285 non-null    object\n",
      " 2   inv-nodes                285 non-null    object\n",
      " 3   deg-malig                285 non-null    int64 \n",
      " 4   class_recurrence-events  285 non-null    bool  \n",
      " 5   menopause_lt40           285 non-null    bool  \n",
      " 6   menopause_premeno        285 non-null    bool  \n",
      " 7   node-caps_yes            285 non-null    bool  \n",
      " 8   breast_right             285 non-null    bool  \n",
      " 9   breast-quad_left_low     285 non-null    bool  \n",
      " 10  breast-quad_left_up      285 non-null    bool  \n",
      " 11  breast-quad_right_low    285 non-null    bool  \n",
      " 12  breast-quad_right_up     285 non-null    bool  \n",
      " 13  irradiat_yes             285 non-null    bool  \n",
      "dtypes: bool(10), int64(1), object(3)\n",
      "memory usage: 13.9+ KB\n"
     ]
    }
   ],
   "source": [
    "data['class'] = data['class'].astype(\"category\")\n",
    "data['menopause'] = data['menopause'].astype(\"category\")\n",
    "data['node-caps'] = data['node-caps'].astype(\"category\")\n",
    "data['breast'] = data['breast'].astype(\"category\")\n",
    "data['breast-quad'] = data['breast-quad'].astype(\"category\")\n",
    "data['irradiat'] = data['irradiat'].astype(\"category\")\n",
    "\n",
    "data = pd.get_dummies(data, columns=[\"class\",\"menopause\",\"node-caps\",\"breast\",\"breast-quad\",\"irradiat\"], drop_first=True)\n",
    "data.info()"
   ]
  },
  {
   "cell_type": "code",
   "execution_count": 453,
   "id": "db9594d8-b4e9-4c9f-9b9d-5df907ce15ce",
   "metadata": {},
   "outputs": [
    {
     "name": "stdout",
     "output_type": "stream",
     "text": [
      "['30-39' '40-49' '60-69' '50-59' '70-79' '20-29']\n",
      "['30-34' '20-24' '15-19' '0-4' '25-29' '50-54' '10-14' '40-44' '35-39'\n",
      " '5-9' '45-49']\n",
      "['0-2' '6-8' '9-11' '3-5' '15-17' '12-14' '24-26']\n"
     ]
    }
   ],
   "source": [
    "print(data['age'].unique())\n",
    "print(data['tumor-size'].unique())\n",
    "print(data['inv-nodes'].unique())"
   ]
  },
  {
   "cell_type": "code",
   "execution_count": 454,
   "id": "630fec5d-a9d5-493b-a7c5-09fdd7d28960",
   "metadata": {},
   "outputs": [],
   "source": [
    "def rangechange(rangeVal):\n",
    "    start, end = map(int, rangeVal.split('-'))\n",
    "    return (start + end) // 2\n",
    "\n",
    "data['age'] = data['age'].apply(rangechange).astype(int)\n",
    "data['tumor-size'] = data['tumor-size'].apply(rangechange).astype(int)\n",
    "data['inv-nodes'] = data['inv-nodes'].apply(rangechange).astype(int)"
   ]
  },
  {
   "cell_type": "code",
   "execution_count": 455,
   "id": "3824b109-5320-4cfd-aab8-30adf3acae65",
   "metadata": {},
   "outputs": [
    {
     "name": "stdout",
     "output_type": "stream",
     "text": [
      "[34 44 64 54 74 24]\n",
      "[32 22 17  2 27 52 12 42 37  7 47]\n",
      "[ 1  7 10  4 16 13 25]\n"
     ]
    },
    {
     "data": {
      "text/html": [
       "<div>\n",
       "<style scoped>\n",
       "    .dataframe tbody tr th:only-of-type {\n",
       "        vertical-align: middle;\n",
       "    }\n",
       "\n",
       "    .dataframe tbody tr th {\n",
       "        vertical-align: top;\n",
       "    }\n",
       "\n",
       "    .dataframe thead th {\n",
       "        text-align: right;\n",
       "    }\n",
       "</style>\n",
       "<table border=\"1\" class=\"dataframe\">\n",
       "  <thead>\n",
       "    <tr style=\"text-align: right;\">\n",
       "      <th></th>\n",
       "      <th>age</th>\n",
       "      <th>tumor-size</th>\n",
       "      <th>inv-nodes</th>\n",
       "      <th>deg-malig</th>\n",
       "    </tr>\n",
       "  </thead>\n",
       "  <tbody>\n",
       "    <tr>\n",
       "      <th>count</th>\n",
       "      <td>285.000000</td>\n",
       "      <td>285.000000</td>\n",
       "      <td>285.000000</td>\n",
       "      <td>285.000000</td>\n",
       "    </tr>\n",
       "    <tr>\n",
       "      <th>mean</th>\n",
       "      <td>50.631579</td>\n",
       "      <td>26.385965</td>\n",
       "      <td>2.578947</td>\n",
       "      <td>2.045614</td>\n",
       "    </tr>\n",
       "    <tr>\n",
       "      <th>std</th>\n",
       "      <td>10.134017</td>\n",
       "      <td>10.542928</td>\n",
       "      <td>3.456711</td>\n",
       "      <td>0.737351</td>\n",
       "    </tr>\n",
       "    <tr>\n",
       "      <th>min</th>\n",
       "      <td>24.000000</td>\n",
       "      <td>2.000000</td>\n",
       "      <td>1.000000</td>\n",
       "      <td>1.000000</td>\n",
       "    </tr>\n",
       "    <tr>\n",
       "      <th>25%</th>\n",
       "      <td>44.000000</td>\n",
       "      <td>22.000000</td>\n",
       "      <td>1.000000</td>\n",
       "      <td>2.000000</td>\n",
       "    </tr>\n",
       "    <tr>\n",
       "      <th>50%</th>\n",
       "      <td>54.000000</td>\n",
       "      <td>27.000000</td>\n",
       "      <td>1.000000</td>\n",
       "      <td>2.000000</td>\n",
       "    </tr>\n",
       "    <tr>\n",
       "      <th>75%</th>\n",
       "      <td>54.000000</td>\n",
       "      <td>32.000000</td>\n",
       "      <td>4.000000</td>\n",
       "      <td>3.000000</td>\n",
       "    </tr>\n",
       "    <tr>\n",
       "      <th>max</th>\n",
       "      <td>74.000000</td>\n",
       "      <td>52.000000</td>\n",
       "      <td>25.000000</td>\n",
       "      <td>3.000000</td>\n",
       "    </tr>\n",
       "  </tbody>\n",
       "</table>\n",
       "</div>"
      ],
      "text/plain": [
       "              age  tumor-size   inv-nodes   deg-malig\n",
       "count  285.000000  285.000000  285.000000  285.000000\n",
       "mean    50.631579   26.385965    2.578947    2.045614\n",
       "std     10.134017   10.542928    3.456711    0.737351\n",
       "min     24.000000    2.000000    1.000000    1.000000\n",
       "25%     44.000000   22.000000    1.000000    2.000000\n",
       "50%     54.000000   27.000000    1.000000    2.000000\n",
       "75%     54.000000   32.000000    4.000000    3.000000\n",
       "max     74.000000   52.000000   25.000000    3.000000"
      ]
     },
     "execution_count": 455,
     "metadata": {},
     "output_type": "execute_result"
    }
   ],
   "source": [
    "print(data['age'].unique())\n",
    "print(data['tumor-size'].unique())\n",
    "print(data['inv-nodes'].unique())\n",
    "data.describe()"
   ]
  },
  {
   "cell_type": "markdown",
   "id": "c6e0b22d-0620-46d5-be64-73f0b6461f8f",
   "metadata": {},
   "source": [
    "Now that I generalized these values we can apply some more univariate analysis!!"
   ]
  },
  {
   "cell_type": "code",
   "execution_count": 456,
   "id": "481daee4-d456-4a7f-bfc5-66eeadbf0a55",
   "metadata": {},
   "outputs": [
    {
     "data": {
      "text/plain": [
       "<Axes: xlabel='tumor-size'>"
      ]
     },
     "execution_count": 456,
     "metadata": {},
     "output_type": "execute_result"
    },
    {
     "data": {
      "image/png": "[encoded data removed]",
      "text/plain": [
       "<Figure size 640x480 with 1 Axes>"
      ]
     },
     "metadata": {},
     "output_type": "display_data"
    }
   ],
   "source": [
    "sns.boxplot(data=data, x='tumor-size')"
   ]
  },
  {
   "cell_type": "code",
   "execution_count": 457,
   "id": "916a0468-aed8-4e28-9a3b-3367f71c19dd",
   "metadata": {},
   "outputs": [
    {
     "data": {
      "image/png": "[encoded data removed]",
      "text/plain": [
       "<Figure size 1000x800 with 2 Axes>"
      ]
     },
     "metadata": {},
     "output_type": "display_data"
    }
   ],
   "source": [
    "data_cols = data.columns\n",
    "plt.figure(figsize=(10, 8))\n",
    "\n",
    "sns.heatmap(data[data_cols].corr(), annot=True, vmin=-1, vmax=1, fmt=\".2f\", cmap=\"Spectral\")\n",
    "\n",
    "plt.show()"
   ]
  },
  {
   "cell_type": "markdown",
   "id": "7efaf34b-2479-4560-a801-008bbe65e59c",
   "metadata": {},
   "source": [
    "# Building and Assessing Models (Part 2) #"
   ]
  },
  {
   "cell_type": "code",
   "execution_count": 458,
   "id": "b427836e-bc18-436a-8811-f548c46ffde7",
   "metadata": {},
   "outputs": [
    {
     "name": "stdout",
     "output_type": "stream",
     "text": [
      "<class 'pandas.core.frame.DataFrame'>\n",
      "Index: 285 entries, 0 to 285\n",
      "Data columns (total 14 columns):\n",
      " #   Column                   Non-Null Count  Dtype\n",
      "---  ------                   --------------  -----\n",
      " 0   age                      285 non-null    int64\n",
      " 1   tumor-size               285 non-null    int64\n",
      " 2   inv-nodes                285 non-null    int64\n",
      " 3   deg-malig                285 non-null    int64\n",
      " 4   class_recurrence-events  285 non-null    bool \n",
      " 5   menopause_lt40           285 non-null    bool \n",
      " 6   menopause_premeno        285 non-null    bool \n",
      " 7   node-caps_yes            285 non-null    bool \n",
      " 8   breast_right             285 non-null    bool \n",
      " 9   breast-quad_left_low     285 non-null    bool \n",
      " 10  breast-quad_left_up      285 non-null    bool \n",
      " 11  breast-quad_right_low    285 non-null    bool \n",
      " 12  breast-quad_right_up     285 non-null    bool \n",
      " 13  irradiat_yes             285 non-null    bool \n",
      "dtypes: bool(10), int64(4)\n",
      "memory usage: 13.9 KB\n"
     ]
    }
   ],
   "source": [
    "data.info()"
   ]
  },
  {
   "cell_type": "code",
   "execution_count": 459,
   "id": "1cb6af86-21b3-4159-9bf2-1aa9337540f5",
   "metadata": {},
   "outputs": [],
   "source": [
    "X = data.drop(\"class_recurrence-events\", axis=1)\n",
    "Y = data[\"class_recurrence-events\"]"
   ]
  },
  {
   "cell_type": "code",
   "execution_count": 460,
   "id": "2632aadb-ae55-4d9c-adcd-497016b49b4c",
   "metadata": {},
   "outputs": [
    {
     "name": "stdout",
     "output_type": "stream",
     "text": [
      "(199, 13) (86, 13)\n"
     ]
    }
   ],
   "source": [
    "X_train, X_test, Y_train, Y_test = train_test_split(X, Y, test_size=0.3, stratify=Y, random_state=1)\n",
    "print(X_train.shape,X_test.shape)"
   ]
  },
  {
   "cell_type": "markdown",
   "id": "387f4d5a-6a9b-49ee-beb3-f0156e83fbd8",
   "metadata": {},
   "source": [
    "## KNeighbor ##"
   ]
  },
  {
   "cell_type": "code",
   "execution_count": 461,
   "id": "69524699-9906-41e6-90e4-1ebedcb86d1b",
   "metadata": {},
   "outputs": [],
   "source": [
    "from sklearn.metrics import accuracy_score, recall_score, precision_score, f1_score\n",
    "from sklearn.model_selection import GridSearchCV\n",
    "from sklearn.metrics import classification_report"
   ]
  },
  {
   "cell_type": "code",
   "execution_count": 462,
   "id": "f93ec74a-59ce-419a-8933-f94945b03064",
   "metadata": {},
   "outputs": [
    {
     "data": {
      "text/html": [
       "<style>#sk-container-id-32 {color: black;}#sk-container-id-32 pre{padding: 0;}#sk-container-id-32 div.sk-toggleable {background-color: white;}#sk-container-id-32 label.sk-toggleable__label {cursor: pointer;display: block;width: 100%;margin-bottom: 0;padding: 0.3em;box-sizing: border-box;text-align: center;}#sk-container-id-32 label.sk-toggleable__label-arrow:before {content: \"▸\";float: left;margin-right: 0.25em;color: #696969;}#sk-container-id-32 label.sk-toggleable__label-arrow:hover:before {color: black;}#sk-container-id-32 div.sk-estimator:hover label.sk-toggleable__label-arrow:before {color: black;}#sk-container-id-32 div.sk-toggleable__content {max-height: 0;max-width: 0;overflow: hidden;text-align: left;background-color: #f0f8ff;}#sk-container-id-32 div.sk-toggleable__content pre {margin: 0.2em;color: black;border-radius: 0.25em;background-color: #f0f8ff;}#sk-container-id-32 input.sk-toggleable__control:checked~div.sk-toggleable__content {max-height: 200px;max-width: 100%;overflow: auto;}#sk-container-id-32 input.sk-toggleable__control:checked~label.sk-toggleable__label-arrow:before {content: \"▾\";}#sk-container-id-32 div.sk-estimator input.sk-toggleable__control:checked~label.sk-toggleable__label {background-color: #d4ebff;}#sk-container-id-32 div.sk-label input.sk-toggleable__control:checked~label.sk-toggleable__label {background-color: #d4ebff;}#sk-container-id-32 input.sk-hidden--visually {border: 0;clip: rect(1px 1px 1px 1px);clip: rect(1px, 1px, 1px, 1px);height: 1px;margin: -1px;overflow: hidden;padding: 0;position: absolute;width: 1px;}#sk-container-id-32 div.sk-estimator {font-family: monospace;background-color: #f0f8ff;border: 1px dotted black;border-radius: 0.25em;box-sizing: border-box;margin-bottom: 0.5em;}#sk-container-id-32 div.sk-estimator:hover {background-color: #d4ebff;}#sk-container-id-32 div.sk-parallel-item::after {content: \"\";width: 100%;border-bottom: 1px solid gray;flex-grow: 1;}#sk-container-id-32 div.sk-label:hover label.sk-toggleable__label {background-color: #d4ebff;}#sk-container-id-32 div.sk-serial::before {content: \"\";position: absolute;border-left: 1px solid gray;box-sizing: border-box;top: 0;bottom: 0;left: 50%;z-index: 0;}#sk-container-id-32 div.sk-serial {display: flex;flex-direction: column;align-items: center;background-color: white;padding-right: 0.2em;padding-left: 0.2em;position: relative;}#sk-container-id-32 div.sk-item {position: relative;z-index: 1;}#sk-container-id-32 div.sk-parallel {display: flex;align-items: stretch;justify-content: center;background-color: white;position: relative;}#sk-container-id-32 div.sk-item::before, #sk-container-id-32 div.sk-parallel-item::before {content: \"\";position: absolute;border-left: 1px solid gray;box-sizing: border-box;top: 0;bottom: 0;left: 50%;z-index: -1;}#sk-container-id-32 div.sk-parallel-item {display: flex;flex-direction: column;z-index: 1;position: relative;background-color: white;}#sk-container-id-32 div.sk-parallel-item:first-child::after {align-self: flex-end;width: 50%;}#sk-container-id-32 div.sk-parallel-item:last-child::after {align-self: flex-start;width: 50%;}#sk-container-id-32 div.sk-parallel-item:only-child::after {width: 0;}#sk-container-id-32 div.sk-dashed-wrapped {border: 1px dashed gray;margin: 0 0.4em 0.5em 0.4em;box-sizing: border-box;padding-bottom: 0.4em;background-color: white;}#sk-container-id-32 div.sk-label label {font-family: monospace;font-weight: bold;display: inline-block;line-height: 1.2em;}#sk-container-id-32 div.sk-label-container {text-align: center;}#sk-container-id-32 div.sk-container {/* jupyter's `normalize.less` sets `[hidden] { display: none; }` but bootstrap.min.css set `[hidden] { display: none !important; }` so we also need the `!important` here to be able to override the default hidden behavior on the sphinx rendered scikit-learn.org. See: https://github.com/scikit-learn/scikit-learn/issues/21755 */display: inline-block !important;position: relative;}#sk-container-id-32 div.sk-text-repr-fallback {display: none;}</style><div id=\"sk-container-id-32\" class=\"sk-top-container\"><div class=\"sk-text-repr-fallback\"><pre>KNeighborsClassifier(n_neighbors=6)</pre><b>In a Jupyter environment, please rerun this cell to show the HTML representation or trust the notebook. <br />On GitHub, the HTML representation is unable to render, please try loading this page with nbviewer.org.</b></div><div class=\"sk-container\" hidden><div class=\"sk-item\"><div class=\"sk-estimator sk-toggleable\"><input class=\"sk-toggleable__control sk-hidden--visually\" id=\"sk-estimator-id-32\" type=\"checkbox\" checked><label for=\"sk-estimator-id-32\" class=\"sk-toggleable__label sk-toggleable__label-arrow\">KNeighborsClassifier</label><div class=\"sk-toggleable__content\"><pre>KNeighborsClassifier(n_neighbors=6)</pre></div></div></div></div></div>"
      ],
      "text/plain": [
       "KNeighborsClassifier(n_neighbors=6)"
      ]
     },
     "execution_count": 462,
     "metadata": {},
     "output_type": "execute_result"
    }
   ],
   "source": [
    "knn = KNeighborsClassifier(n_neighbors=6)\n",
    "\n",
    "knn.fit(X_train, Y_train)"
   ]
  },
  {
   "cell_type": "code",
   "execution_count": 463,
   "id": "e8148526-2995-4789-a16d-8e0373329d88",
   "metadata": {},
   "outputs": [
    {
     "name": "stdout",
     "output_type": "stream",
     "text": [
      "Accuracy of knn on test data is : 0.69\n",
      "Accuracy of knn on train data is : 0.73\n"
     ]
    }
   ],
   "source": [
    "accuracy_test=accuracy_score(Y_test, knn.predict(X_test))\n",
    "print('Accuracy of knn on test data is : {:.2}'.format(accuracy_test))\n",
    "\n",
    "# Check accuracy on the training data\n",
    "accuracy_train=accuracy_score(Y_train, knn.predict(X_train))\n",
    "print('Accuracy of knn on train data is : {:.2}'.format(accuracy_train))"
   ]
  },
  {
   "cell_type": "code",
   "execution_count": 464,
   "id": "a4dcc3f2-7eed-43a2-96a5-48777ff12015",
   "metadata": {},
   "outputs": [
    {
     "data": {
      "text/plain": [
       "{'n_neighbors': 1}"
      ]
     },
     "execution_count": 464,
     "metadata": {},
     "output_type": "execute_result"
    }
   ],
   "source": [
    "knnAccuracy = KNeighborsClassifier()\n",
    "param_grid = {\"n_neighbors\": np.arange(1, 100)}\n",
    "knn_gscv = GridSearchCV(knnAccuracy, param_grid, cv=5, scoring=\"recall\")\n",
    "knn_gscv.fit(X_train, Y_train)\n",
    "knn_gscv.best_params_"
   ]
  },
  {
   "cell_type": "code",
   "execution_count": 465,
   "id": "ad789450-35e5-4e83-afae-9e3304720ab6",
   "metadata": {},
   "outputs": [
    {
     "name": "stdout",
     "output_type": "stream",
     "text": [
      "                    KN TEST PERFORMANCE\n",
      "              precision    recall  f1-score   support\n",
      "\n",
      "       False       0.70      0.70      0.70        61\n",
      "        True       0.28      0.28      0.28        25\n",
      "\n",
      "    accuracy                           0.58        86\n",
      "   macro avg       0.49      0.49      0.49        86\n",
      "weighted avg       0.58      0.58      0.58        86\n",
      "\n",
      "                   KN TRAIN PERFORMANCE\n",
      "              precision    recall  f1-score   support\n",
      "\n",
      "       False       0.99      0.98      0.98       140\n",
      "        True       0.95      0.97      0.96        59\n",
      "\n",
      "    accuracy                           0.97       199\n",
      "   macro avg       0.97      0.97      0.97       199\n",
      "weighted avg       0.98      0.97      0.97       199\n",
      "\n"
     ]
    }
   ],
   "source": [
    "print(\"                    KN TEST PERFORMANCE\")\n",
    "print(classification_report(Y_test, knn_gscv.best_estimator_.predict(X_test)))\n",
    "print(\"                   KN TRAIN PERFORMANCE\")\n",
    "print(classification_report(Y_train, knn_gscv.best_estimator_.predict(X_train)))"
   ]
  },
  {
   "cell_type": "markdown",
   "id": "8856a461-2a01-4e33-9f4c-bdd8f5b19a17",
   "metadata": {},
   "source": [
    "## Random Forest ##"
   ]
  },
  {
   "cell_type": "code",
   "execution_count": 466,
   "id": "9007109a-577e-4059-8b40-aa616f5895b3",
   "metadata": {},
   "outputs": [
    {
     "data": {
      "text/plain": [
       "{'class_weight': {0: 0.1, 1: 0.9},\n",
       " 'max_depth': 2,\n",
       " 'min_samples_leaf': 1,\n",
       " 'n_estimators': 16}"
      ]
     },
     "execution_count": 466,
     "metadata": {},
     "output_type": "execute_result"
    }
   ],
   "source": [
    "model = RandomForestClassifier()\n",
    "param_grid = {\n",
    "   \"n_estimators\": np.arange(start=10, stop=100, step=2),\n",
    "   \"max_depth\": np.arange(start=2, stop=20),\n",
    "   \"min_samples_leaf\": np.arange(start=1, stop=5),\n",
    "   \"class_weight\": [{0: 0.1, 1: 0.9}, {0: 0.2, 1: 0.8}, {0: 0.3, 1: 0.7}],\n",
    "}\n",
    "\n",
    "fr_gscv = GridSearchCV(model, param_grid, cv=5, n_jobs=8, scoring=\"recall\", )\n",
    "fr_gscv.fit(X_train, Y_train)\n",
    "fr_gscv.best_params_"
   ]
  },
  {
   "cell_type": "code",
   "execution_count": 467,
   "id": "f2211d97-f8ac-4adb-8d18-3e4e35ea9e92",
   "metadata": {},
   "outputs": [
    {
     "name": "stdout",
     "output_type": "stream",
     "text": [
      "                    RF TEST PERFORMANCE\n",
      "              precision    recall  f1-score   support\n",
      "\n",
      "       False       1.00      0.03      0.06        61\n",
      "        True       0.30      1.00      0.46        25\n",
      "\n",
      "    accuracy                           0.31        86\n",
      "   macro avg       0.65      0.52      0.26        86\n",
      "weighted avg       0.80      0.31      0.18        86\n",
      "\n",
      "                   RF TRAIN PERFORMANCE\n",
      "              precision    recall  f1-score   support\n",
      "\n",
      "       False       1.00      0.05      0.10       140\n",
      "        True       0.31      1.00      0.47        59\n",
      "\n",
      "    accuracy                           0.33       199\n",
      "   macro avg       0.65      0.53      0.28       199\n",
      "weighted avg       0.79      0.33      0.21       199\n",
      "\n"
     ]
    }
   ],
   "source": [
    "print(\"                    RF TEST PERFORMANCE\")\n",
    "print(classification_report(Y_test, fr_gscv.best_estimator_.predict(X_test)))\n",
    "print(\"                   RF TRAIN PERFORMANCE\")\n",
    "print(classification_report(Y_train, fr_gscv.best_estimator_.predict(X_train)))"
   ]
  },
  {
   "cell_type": "markdown",
   "id": "2d5754c2-4866-48e2-b0f3-14391af5da8d",
   "metadata": {},
   "source": [
    "## Decision Tree ##"
   ]
  },
  {
   "cell_type": "code",
   "execution_count": 468,
   "id": "73715eb8-cd1c-453a-82a1-f2e37fd54d36",
   "metadata": {},
   "outputs": [],
   "source": [
    "dt_gscv = DecisionTreeClassifier(random_state=1).fit(X_train, Y_train)"
   ]
  },
  {
   "cell_type": "code",
   "execution_count": 469,
   "id": "bc21a50a-233c-4c40-92af-19c3be8e42e6",
   "metadata": {},
   "outputs": [
    {
     "name": "stdout",
     "output_type": "stream",
     "text": [
      "                    RF TEST PERFORMANCE\n",
      "              precision    recall  f1-score   support\n",
      "\n",
      "       False       0.76      0.72      0.74        61\n",
      "        True       0.39      0.44      0.42        25\n",
      "\n",
      "    accuracy                           0.64        86\n",
      "   macro avg       0.58      0.58      0.58        86\n",
      "weighted avg       0.65      0.64      0.65        86\n",
      "\n",
      "                   RF TRAIN PERFORMANCE\n",
      "              precision    recall  f1-score   support\n",
      "\n",
      "       False       0.97      1.00      0.98       140\n",
      "        True       1.00      0.92      0.96        59\n",
      "\n",
      "    accuracy                           0.97       199\n",
      "   macro avg       0.98      0.96      0.97       199\n",
      "weighted avg       0.98      0.97      0.97       199\n",
      "\n"
     ]
    }
   ],
   "source": [
    "print(\"                    RF TEST PERFORMANCE\")\n",
    "print(classification_report(Y_test, dt_gscv.predict(X_test)))\n",
    "print(\"                   RF TRAIN PERFORMANCE\")\n",
    "print(classification_report(Y_train, dt_gscv.predict(X_train)))"
   ]
  }
 ],
 "metadata": {
  "kernelspec": {
   "display_name": "Python 3 (ipykernel)",
   "language": "python",
   "name": "python3"
  },
  "language_info": {
   "codemirror_mode": {
    "name": "ipython",
    "version": 3
   },
   "file_extension": ".py",
   "mimetype": "text/x-python",
   "name": "python",
   "nbconvert_exporter": "python",
   "pygments_lexer": "ipython3",
   "version": "3.11.1"
  }
 },
 "nbformat": 4,
 "nbformat_minor": 5
}
